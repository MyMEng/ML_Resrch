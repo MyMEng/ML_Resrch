{
 "metadata": {
  "name": "semi-supervised"
 },
 "nbformat": 3,
 "nbformat_minor": 0,
 "worksheets": [
  {
   "cells": [
    {
     "cell_type": "code",
     "collapsed": false,
     "input": [
      "instances = [\"123\", \"456\", \"789\", \"10\"]\n",
      "for ind, val in enumerate(instances):\n",
      "    print( \"index is: \" + str(ind) + \" and value is: \" + val)"
     ],
     "language": "python",
     "metadata": {},
     "outputs": [
      {
       "output_type": "stream",
       "stream": "stdout",
       "text": [
        "index is: 0 and value is: 123\n",
        "index is: 1 and value is: 456\n",
        "index is: 2 and value is: 789\n",
        "index is: 3 and value is: 10\n"
       ]
      }
     ],
     "prompt_number": 12
    },
    {
     "cell_type": "code",
     "collapsed": false,
     "input": [
      "for i in instances:\n",
      "    print i\n",
      "    instances.remove(i)\n",
      "    print instances"
     ],
     "language": "python",
     "metadata": {},
     "outputs": [
      {
       "output_type": "stream",
       "stream": "stdout",
       "text": [
        "['456', '789', '10']\n",
        "['456', '10']\n"
       ]
      }
     ],
     "prompt_number": 13
    },
    {
     "cell_type": "code",
     "collapsed": false,
     "input": [
      "print instances"
     ],
     "language": "python",
     "metadata": {},
     "outputs": [
      {
       "output_type": "stream",
       "stream": "stdout",
       "text": [
        "['456', '10']\n"
       ]
      }
     ],
     "prompt_number": 10
    },
    {
     "cell_type": "code",
     "collapsed": false,
     "input": [
      "output = \"\\n\\n\\n=== Stratified cross-validation ===\\n\\nCorrectly Classified Instances         147               98      %\\nIncorrectly Classified Instances         3                2      %\\nKappa statistic                          0.97  \\nMean absolute error                      0.0133\\nRoot mean squared error                  0.1155\\nRelative absolute error                  3      %\\nRoot relative squared error             24.4949 %\\nTotal Number of Instances              150     \\n\\n\\n=== Confusion Matrix ===\\n\\n  a  b  c   <-- classified as\\n 49  1  0 |  a = Iris-setosa\\n  0 48  2 |  b = Iris-versicolor\\n  0  0 50 |  c = Iris-virginica\\n\""
     ],
     "language": "python",
     "metadata": {},
     "outputs": [],
     "prompt_number": 2
    },
    {
     "cell_type": "code",
     "collapsed": false,
     "input": [
      "print output"
     ],
     "language": "python",
     "metadata": {},
     "outputs": [
      {
       "output_type": "stream",
       "stream": "stdout",
       "text": [
        "\n",
        "\n",
        "\n",
        "=== Stratified cross-validation ===\n",
        "\n",
        "Correctly Classified Instances         147               98      %\n",
        "Incorrectly Classified Instances         3                2      %\n",
        "Kappa statistic                          0.97  \n",
        "Mean absolute error                      0.0133\n",
        "Root mean squared error                  0.1155\n",
        "Relative absolute error                  3      %\n",
        "Root relative squared error             24.4949 %\n",
        "Total Number of Instances              150     \n",
        "\n",
        "\n",
        "=== Confusion Matrix ===\n",
        "\n",
        "  a  b  c   <-- classified as\n",
        " 49  1  0 |  a = Iris-setosa\n",
        "  0 48  2 |  b = Iris-versicolor\n",
        "  0  0 50 |  c = Iris-virginica\n",
        "\n"
       ]
      }
     ],
     "prompt_number": 3
    },
    {
     "cell_type": "code",
     "collapsed": false,
     "input": [
      "tempIndex = [x for x, y in enumerate(output) if y == '|']\n",
      "for j in tempIndex:\n",
      "\tfor k in reversed(range(j)):\n",
      "\t\tif output[k]==\"\\n\" :\n",
      "\t\t\ttemp = (  output[k+1 : j].split()  )\n",
      "\t\t\tfor i in temp :\n",
      "\t\t\t\tprint int(i)\n",
      "\t\t\tbreak"
     ],
     "language": "python",
     "metadata": {},
     "outputs": [
      {
       "output_type": "stream",
       "stream": "stdout",
       "text": [
        "['49', '1', '0']\n",
        "['0', '48', '2']\n",
        "['0', '0', '50']\n"
       ]
      }
     ],
     "prompt_number": 10
    },
    {
     "cell_type": "code",
     "collapsed": false,
     "input": [],
     "language": "python",
     "metadata": {},
     "outputs": []
    }
   ],
   "metadata": {}
  }
 ]
}