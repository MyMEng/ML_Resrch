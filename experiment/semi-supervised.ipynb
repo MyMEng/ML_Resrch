{
 "metadata": {
  "name": "semi-supervised"
 },
 "nbformat": 3,
 "nbformat_minor": 0,
 "worksheets": [
  {
   "cells": [
    {
     "cell_type": "code",
     "collapsed": false,
     "input": [
      "from random import randint"
     ],
     "language": "python",
     "metadata": {},
     "outputs": [],
     "prompt_number": 35
    },
    {
     "cell_type": "code",
     "collapsed": false,
     "input": [
      "instances = [\"123\", \"456\", \"789\", \"10\"]\n",
      "for ind, val in enumerate(instances):\n",
      "    print( \"index is: \" + str(ind) + \" and value is: \" + val)"
     ],
     "language": "python",
     "metadata": {},
     "outputs": [
      {
       "output_type": "stream",
       "stream": "stdout",
       "text": [
        "index is: 0 and value is: 123\n",
        "index is: 1 and value is: 456\n",
        "index is: 2 and value is: 789\n",
        "index is: 3 and value is: 10\n"
       ]
      }
     ],
     "prompt_number": 12
    },
    {
     "cell_type": "code",
     "collapsed": false,
     "input": [
      "for i in instances:\n",
      "    print i\n",
      "    instances.remove(i)\n",
      "    print instances"
     ],
     "language": "python",
     "metadata": {},
     "outputs": [
      {
       "output_type": "stream",
       "stream": "stdout",
       "text": [
        "['456', '789', '10']\n",
        "['456', '10']\n"
       ]
      }
     ],
     "prompt_number": 13
    },
    {
     "cell_type": "code",
     "collapsed": false,
     "input": [
      "print instances"
     ],
     "language": "python",
     "metadata": {},
     "outputs": [
      {
       "output_type": "stream",
       "stream": "stdout",
       "text": [
        "['456', '10']\n"
       ]
      }
     ],
     "prompt_number": 10
    },
    {
     "cell_type": "code",
     "collapsed": false,
     "input": [
      "output = \"\\n\\n\\n=== Stratified cross-validation ===\\n\\nCorrectly Classified Instances         147               98      %\\nIncorrectly Classified Instances         3                2      %\\nKappa statistic                          0.97  \\nMean absolute error                      0.0133\\nRoot mean squared error                  0.1155\\nRelative absolute error                  3      %\\nRoot relative squared error             24.4949 %\\nTotal Number of Instances              150     \\n\\n\\n=== Confusion Matrix ===\\n\\n  a  b  c   <-- classified as\\n 49  1  0 |  a = Iris-setosa\\n  0 48  2 |  b = Iris-versicolor\\n  0  0 50 |  c = Iris-virginica\\n\""
     ],
     "language": "python",
     "metadata": {},
     "outputs": [],
     "prompt_number": 2
    },
    {
     "cell_type": "code",
     "collapsed": false,
     "input": [
      "print output"
     ],
     "language": "python",
     "metadata": {},
     "outputs": [
      {
       "output_type": "stream",
       "stream": "stdout",
       "text": [
        "\n",
        "\n",
        "\n",
        "=== Stratified cross-validation ===\n",
        "\n",
        "Correctly Classified Instances         147               98      %\n",
        "Incorrectly Classified Instances         3                2      %\n",
        "Kappa statistic                          0.97  \n",
        "Mean absolute error                      0.0133\n",
        "Root mean squared error                  0.1155\n",
        "Relative absolute error                  3      %\n",
        "Root relative squared error             24.4949 %\n",
        "Total Number of Instances              150     \n",
        "\n",
        "\n",
        "=== Confusion Matrix ===\n",
        "\n",
        "  a  b  c   <-- classified as\n",
        " 49  1  0 |  a = Iris-setosa\n",
        "  0 48  2 |  b = Iris-versicolor\n",
        "  0  0 50 |  c = Iris-virginica\n",
        "\n"
       ]
      }
     ],
     "prompt_number": 3
    },
    {
     "cell_type": "code",
     "collapsed": false,
     "input": [
      "tempIndex = [x for x, y in enumerate(output) if y == '|']\n",
      "for j in tempIndex:\n",
      "\tfor k in reversed(range(j)):\n",
      "\t\tif output[k]==\"\\n\" :\n",
      "\t\t\ttemp = (  output[k+1 : j].split()  )\n",
      "\t\t\tfor i in temp :\n",
      "\t\t\t\tprint int(i)\n",
      "\t\t\tbreak"
     ],
     "language": "python",
     "metadata": {},
     "outputs": [
      {
       "output_type": "stream",
       "stream": "stdout",
       "text": [
        "49\n",
        "1\n",
        "0\n",
        "0\n",
        "48\n",
        "2\n",
        "0\n",
        "0\n",
        "50\n"
       ]
      }
     ],
     "prompt_number": 11
    },
    {
     "cell_type": "code",
     "collapsed": false,
     "input": [
      "ls = [[27,23], [6,8]]\n",
      "for i in range(len(ls)):\n",
      "    for j in range(len(ls[i])):\n",
      "        ls[i][j] = (round( float(ls[i][j])/2.0))\n",
      "        \n",
      "print ls"
     ],
     "language": "python",
     "metadata": {},
     "outputs": [
      {
       "output_type": "stream",
       "stream": "stdout",
       "text": [
        "[[14.0, 12.0], [3.0, 4.0]]\n"
       ]
      }
     ],
     "prompt_number": 28
    },
    {
     "cell_type": "code",
     "collapsed": false,
     "input": [
      "string = \"loldfsdf\""
     ],
     "language": "python",
     "metadata": {},
     "outputs": [],
     "prompt_number": 29
    },
    {
     "cell_type": "code",
     "collapsed": false,
     "input": [
      "abcd = string[0:-1]"
     ],
     "language": "python",
     "metadata": {},
     "outputs": [],
     "prompt_number": 33
    },
    {
     "cell_type": "code",
     "collapsed": false,
     "input": [
      "abcd"
     ],
     "language": "python",
     "metadata": {},
     "outputs": [
      {
       "output_type": "pyout",
       "prompt_number": 34,
       "text": [
        "'lo'"
       ]
      }
     ],
     "prompt_number": 34
    },
    {
     "cell_type": "code",
     "collapsed": false,
     "input": [
      "i = randint(0,1)\n",
      "print i\n",
      "if i :\n",
      "    print \"pass\"\n",
      "else :\n",
      "    print \"fail\""
     ],
     "language": "python",
     "metadata": {},
     "outputs": [
      {
       "output_type": "stream",
       "stream": "stdout",
       "text": [
        "0\n",
        "fail\n"
       ]
      }
     ],
     "prompt_number": 40
    },
    {
     "cell_type": "code",
     "collapsed": false,
     "input": [
      "10*[0]"
     ],
     "language": "python",
     "metadata": {},
     "outputs": [
      {
       "output_type": "pyout",
       "prompt_number": 42,
       "text": [
        "[0, 0, 0, 0, 0, 0, 0, 0, 0, 0]"
       ]
      }
     ],
     "prompt_number": 42
    },
    {
     "cell_type": "code",
     "collapsed": false,
     "input": [
      "line = \"@attribute class {Iris-setosa,Iris-versicolor,Iris-virginica}\\n\"\n",
      "(line.split()[-1][1:-1]).split(',')"
     ],
     "language": "python",
     "metadata": {},
     "outputs": [
      {
       "output_type": "pyout",
       "prompt_number": 52,
       "text": [
        "['Iris-setosa', 'Iris-versicolor', 'Iris-virginica']"
       ]
      }
     ],
     "prompt_number": 52
    },
    {
     "cell_type": "code",
     "collapsed": false,
     "input": [
      "line.find(\"@attribute\")"
     ],
     "language": "python",
     "metadata": {},
     "outputs": [
      {
       "output_type": "pyout",
       "prompt_number": 45,
       "text": [
        "0"
       ]
      }
     ],
     "prompt_number": 45
    },
    {
     "cell_type": "code",
     "collapsed": false,
     "input": [
      "abc = [(0,'a'), (1,'b'), (3, 'c')]\n",
      "d = abc[0:len(abc)-1][0]"
     ],
     "language": "python",
     "metadata": {},
     "outputs": [],
     "prompt_number": 57
    },
    {
     "cell_type": "code",
     "collapsed": false,
     "input": [
      "j =[i for i, v in enumerate(abc) if v[0] == 2][0]\n",
      "if j:\n",
      "    print j+3"
     ],
     "language": "python",
     "metadata": {},
     "outputs": [
      {
       "ename": "IndexError",
       "evalue": "list index out of range",
       "output_type": "pyerr",
       "traceback": [
        "\u001b[0;31m---------------------------------------------------------------------------\u001b[0m\n\u001b[0;31mIndexError\u001b[0m                                Traceback (most recent call last)",
        "\u001b[0;32m<ipython-input-84-795f39e7315b>\u001b[0m in \u001b[0;36m<module>\u001b[0;34m()\u001b[0m\n\u001b[0;32m----> 1\u001b[0;31m \u001b[0mj\u001b[0m \u001b[0;34m=\u001b[0m\u001b[0;34m[\u001b[0m\u001b[0mi\u001b[0m \u001b[0;32mfor\u001b[0m \u001b[0mi\u001b[0m\u001b[0;34m,\u001b[0m \u001b[0mv\u001b[0m \u001b[0;32min\u001b[0m \u001b[0menumerate\u001b[0m\u001b[0;34m(\u001b[0m\u001b[0mabc\u001b[0m\u001b[0;34m)\u001b[0m \u001b[0;32mif\u001b[0m \u001b[0mv\u001b[0m\u001b[0;34m[\u001b[0m\u001b[0;36m0\u001b[0m\u001b[0;34m]\u001b[0m \u001b[0;34m==\u001b[0m \u001b[0;36m2\u001b[0m\u001b[0;34m]\u001b[0m\u001b[0;34m[\u001b[0m\u001b[0;36m0\u001b[0m\u001b[0;34m]\u001b[0m\u001b[0;34m\u001b[0m\u001b[0m\n\u001b[0m\u001b[1;32m      2\u001b[0m \u001b[0;32mif\u001b[0m \u001b[0mj\u001b[0m\u001b[0;34m:\u001b[0m\u001b[0;34m\u001b[0m\u001b[0m\n\u001b[1;32m      3\u001b[0m     \u001b[0;32mprint\u001b[0m \u001b[0mj\u001b[0m\u001b[0;34m+\u001b[0m\u001b[0;36m3\u001b[0m\u001b[0;34m\u001b[0m\u001b[0m\n",
        "\u001b[0;31mIndexError\u001b[0m: list index out of range"
       ]
      }
     ],
     "prompt_number": 84
    },
    {
     "cell_type": "code",
     "collapsed": false,
     "input": [
      "2 in abc[:][0]"
     ],
     "language": "python",
     "metadata": {},
     "outputs": [
      {
       "output_type": "pyout",
       "prompt_number": 69,
       "text": [
        "False"
       ]
      }
     ],
     "prompt_number": 69
    },
    {
     "cell_type": "code",
     "collapsed": false,
     "input": [
      "instance = \"sunny, 85, 85, FALSE,no\\r\\n\"\n",
      "lis = (\"\".join(instance.split())).split(',')\n",
      "\",\".join(lis)"
     ],
     "language": "python",
     "metadata": {},
     "outputs": [
      {
       "output_type": "pyout",
       "prompt_number": 106,
       "text": [
        "'sunny,85,85,FALSE,no'"
       ]
      }
     ],
     "prompt_number": 106
    },
    {
     "cell_type": "code",
     "collapsed": false,
     "input": [
      "A = [[1,2], [3,4]]\n",
      "B = [[5,6], [7,8]]\n",
      "\n",
      "import operator\n",
      "map(operator.add, A,B)"
     ],
     "language": "python",
     "metadata": {},
     "outputs": [
      {
       "output_type": "pyout",
       "prompt_number": 107,
       "text": [
        "[[1, 2, 5, 6], [3, 4, 7, 8]]"
       ]
      }
     ],
     "prompt_number": 107
    },
    {
     "cell_type": "code",
     "collapsed": false,
     "input": [
      "cum = []\n",
      "if not cum:\n",
      "    print \"empty\""
     ],
     "language": "python",
     "metadata": {},
     "outputs": [
      {
       "output_type": "stream",
       "stream": "stdout",
       "text": [
        "empty\n"
       ]
      }
     ],
     "prompt_number": 110
    },
    {
     "cell_type": "code",
     "collapsed": false,
     "input": [],
     "language": "python",
     "metadata": {},
     "outputs": []
    }
   ],
   "metadata": {}
  }
 ]
}